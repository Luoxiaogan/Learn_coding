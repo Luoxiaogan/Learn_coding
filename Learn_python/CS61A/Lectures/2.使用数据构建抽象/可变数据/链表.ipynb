{
 "cells": [
  {
   "cell_type": "code",
   "execution_count": 1,
   "metadata": {},
   "outputs": [],
   "source": [
    "#链表：linked list\n",
    "empty = \"empty\"\n",
    "def is_link(s):\n",
    "    \"\"\" s is a linked list \"\"\"\n",
    "    return s == empty or (len(s) == 2 and is_link(s[1]))\n",
    "\n",
    "def link(first, rest):\n",
    "    assert is_link(rest)\n",
    "    return [first, rest]\n",
    "\n",
    "def first(s):\n",
    "    assert is_link(s)\n",
    "    assert s != empty\n",
    "    return s[0]\n",
    "\n",
    "def rest(s):\n",
    "    assert is_link(s)\n",
    "    assert s != empty\n",
    "    return s[1]"
   ]
  },
  {
   "cell_type": "code",
   "execution_count": 2,
   "metadata": {},
   "outputs": [],
   "source": [
    "four = link(2, link(3, link(4, empty)))"
   ]
  },
  {
   "cell_type": "code",
   "execution_count": 3,
   "metadata": {},
   "outputs": [
    {
     "data": {
      "text/plain": [
       "2"
      ]
     },
     "execution_count": 3,
     "metadata": {},
     "output_type": "execute_result"
    }
   ],
   "source": [
    "first(four)"
   ]
  },
  {
   "cell_type": "code",
   "execution_count": 4,
   "metadata": {},
   "outputs": [
    {
     "data": {
      "text/plain": [
       "[3, [4, 'empty']]"
      ]
     },
     "execution_count": 4,
     "metadata": {},
     "output_type": "execute_result"
    }
   ],
   "source": [
    "rest(four)"
   ]
  },
  {
   "cell_type": "code",
   "execution_count": 5,
   "metadata": {},
   "outputs": [],
   "source": [
    "#链表：linked list\n",
    "empty = \"empty\"\n",
    "def is_link(s):\n",
    "    \"\"\" s is a linked list \"\"\"\n",
    "    return s == empty or (len(s) == 2 and is_link(s[1]))\n",
    "\n",
    "def link(first, rest):\n",
    "    assert is_link(rest)\n",
    "    return [first, rest]\n",
    "\n",
    "def first(s):\n",
    "    assert is_link(s)\n",
    "    assert s != empty\n",
    "    return s[0]\n",
    "\n",
    "def rest(s):\n",
    "    assert is_link(s)\n",
    "    assert s != empty\n",
    "    return s[1]\n",
    "\n",
    "def len_link(s):\n",
    "    length = 0\n",
    "    while s != empty:\n",
    "        s, length = rest(s), length+1\n",
    "    return length\n",
    "\n",
    "def getitem_link(s, i):\n",
    "    while i > 0:\n",
    "        s, i =rest(s), i-1\n",
    "    return first(s)"
   ]
  },
  {
   "cell_type": "code",
   "execution_count": 6,
   "metadata": {},
   "outputs": [
    {
     "data": {
      "text/plain": [
       "3"
      ]
     },
     "execution_count": 6,
     "metadata": {},
     "output_type": "execute_result"
    }
   ],
   "source": [
    "getitem_link(four, 1)"
   ]
  },
  {
   "cell_type": "code",
   "execution_count": 7,
   "metadata": {},
   "outputs": [],
   "source": [
    "#链表：linked list\n",
    "empty = \"empty\"\n",
    "def is_link(s):\n",
    "    \"\"\" s is a linked list \"\"\"\n",
    "    return s == empty or (len(s) == 2 and is_link(s[1]))\n",
    "\n",
    "def link(first, rest):\n",
    "    assert is_link(rest)\n",
    "    return [first, rest]\n",
    "\n",
    "def first(s):\n",
    "    assert is_link(s)\n",
    "    assert s != empty\n",
    "    return s[0]\n",
    "\n",
    "def rest(s):\n",
    "    assert is_link(s)\n",
    "    assert s != empty\n",
    "    return s[1]\n",
    "\n",
    "def len_link(s):\n",
    "    length = 0\n",
    "    while s != empty:\n",
    "        s, length = rest(s), length+1\n",
    "    return length\n",
    "\n",
    "def getitem_link(s, i):\n",
    "    while i > 0:\n",
    "        s, i =rest(s), i-1\n",
    "    return first(s)\n",
    "\n",
    "def len_link_recursive(s):\n",
    "    if s == empty:\n",
    "        return 0\n",
    "    else:\n",
    "        return 1+len_link_recursive(rest(s))\n",
    "    \n",
    "def getitem_link_recursive(s,i):\n",
    "    if i==0:\n",
    "        return first(s)\n",
    "    else:\n",
    "        return getitem_link_recursive(rest(s), i-1)"
   ]
  },
  {
   "cell_type": "code",
   "execution_count": 8,
   "metadata": {},
   "outputs": [
    {
     "data": {
      "text/plain": [
       "3"
      ]
     },
     "execution_count": 8,
     "metadata": {},
     "output_type": "execute_result"
    }
   ],
   "source": [
    "len_link_recursive(four)"
   ]
  },
  {
   "cell_type": "code",
   "execution_count": 9,
   "metadata": {},
   "outputs": [
    {
     "data": {
      "text/plain": [
       "3"
      ]
     },
     "execution_count": 9,
     "metadata": {},
     "output_type": "execute_result"
    }
   ],
   "source": [
    "getitem_link_recursive(four,1)"
   ]
  },
  {
   "cell_type": "code",
   "execution_count": 10,
   "metadata": {},
   "outputs": [],
   "source": [
    "#链表：linked list\n",
    "empty = \"empty\"\n",
    "def is_link(s):\n",
    "    \"\"\" s is a linked list \"\"\"\n",
    "    return s == empty or (len(s) == 2 and is_link(s[1]))\n",
    "\n",
    "def link(first, rest):\n",
    "    assert is_link(rest)\n",
    "    return [first, rest]\n",
    "\n",
    "def first(s):\n",
    "    assert is_link(s)\n",
    "    assert s != empty\n",
    "    return s[0]\n",
    "\n",
    "def rest(s):\n",
    "    assert is_link(s)\n",
    "    assert s != empty\n",
    "    return s[1]\n",
    "\n",
    "def len_link(s):\n",
    "    length = 0\n",
    "    while s != empty:\n",
    "        s, length = rest(s), length+1\n",
    "    return length\n",
    "\n",
    "def getitem_link(s, i):\n",
    "    while i > 0:\n",
    "        s, i =rest(s), i-1\n",
    "    return first(s)\n",
    "\n",
    "def len_link_recursive(s):\n",
    "    if s == empty:\n",
    "        return 0\n",
    "    else:\n",
    "        return 1+len_link_recursive(rest(s))\n",
    "    \n",
    "def getitem_link_recursive(s,i):\n",
    "    if i==0:\n",
    "        return first(s)\n",
    "    else:\n",
    "        return getitem_link_recursive(rest(s), i-1)\n",
    "    \n",
    "def extend_link(s,t):\n",
    "    \"\"\"将 t 插入到链表 s 的每个元素之后\"\"\"\n",
    "    assert is_link(s) and is_link(t)\n",
    "    if s==empty:\n",
    "        return t\n",
    "    else:\n",
    "        return link(first(s), extend_link(rest(s),t))"
   ]
  },
  {
   "cell_type": "code",
   "execution_count": 11,
   "metadata": {},
   "outputs": [
    {
     "data": {
      "text/plain": [
       "[2, [3, [4, [2, [3, [4, 'empty']]]]]]"
      ]
     },
     "execution_count": 11,
     "metadata": {},
     "output_type": "execute_result"
    }
   ],
   "source": [
    "extend_link(four,four)"
   ]
  },
  {
   "cell_type": "code",
   "execution_count": 12,
   "metadata": {},
   "outputs": [
    {
     "data": {
      "text/plain": [
       "[2, [3, [4, 'empty']]]"
      ]
     },
     "execution_count": 12,
     "metadata": {},
     "output_type": "execute_result"
    }
   ],
   "source": [
    "four"
   ]
  },
  {
   "cell_type": "code",
   "execution_count": 13,
   "metadata": {},
   "outputs": [],
   "source": [
    "#链表：linked list\n",
    "empty = \"empty\"\n",
    "def is_link(s):\n",
    "    \"\"\" s is a linked list \"\"\"\n",
    "    return s == empty or (len(s) == 2 and is_link(s[1]))\n",
    "\n",
    "def link(first, rest):\n",
    "    assert is_link(rest)\n",
    "    return [first, rest]\n",
    "\n",
    "def first(s):\n",
    "    assert is_link(s)\n",
    "    assert s != empty\n",
    "    return s[0]\n",
    "\n",
    "def rest(s):\n",
    "    assert is_link(s)\n",
    "    assert s != empty\n",
    "    return s[1]\n",
    "\n",
    "def len_link(s):\n",
    "    length = 0\n",
    "    while s != empty:\n",
    "        s, length = rest(s), length+1\n",
    "    return length\n",
    "\n",
    "def getitem_link(s, i):\n",
    "    while i > 0:\n",
    "        s, i =rest(s), i-1\n",
    "    return first(s)\n",
    "\n",
    "def len_link_recursive(s):\n",
    "    if s == empty:\n",
    "        return 0\n",
    "    else:\n",
    "        return 1+len_link_recursive(rest(s))\n",
    "    \n",
    "def getitem_link_recursive(s,i):\n",
    "    if i==0:\n",
    "        return first(s)\n",
    "    else:\n",
    "        return getitem_link_recursive(rest(s), i-1)\n",
    "    \n",
    "def extend_link(s,t):\n",
    "    \"\"\"将 t 插入到链表 s 的每个元素之后\"\"\"\n",
    "    assert is_link(s) and is_link(t)\n",
    "    if s==empty:\n",
    "        return t\n",
    "    else:\n",
    "        return link(first(s), extend_link(rest(s),t))\n",
    "    \n",
    "def apply_to_all_link(f,s):\n",
    "    assert is_link(s)\n",
    "    if s==empty:\n",
    "        return s\n",
    "    else:\n",
    "        return link(f(first(s)), apply_to_all_link(f,rest(s)))"
   ]
  },
  {
   "cell_type": "code",
   "execution_count": 14,
   "metadata": {},
   "outputs": [
    {
     "data": {
      "text/plain": [
       "[4, [9, [16, 'empty']]]"
      ]
     },
     "execution_count": 14,
     "metadata": {},
     "output_type": "execute_result"
    }
   ],
   "source": [
    "apply_to_all_link(lambda x:x*x, four)"
   ]
  },
  {
   "cell_type": "code",
   "execution_count": 15,
   "metadata": {},
   "outputs": [],
   "source": [
    "#链表：linked list\n",
    "empty = \"empty\"\n",
    "def is_link(s):\n",
    "    \"\"\" s is a linked list \"\"\"\n",
    "    return s == empty or (len(s) == 2 and is_link(s[1]))\n",
    "\n",
    "def link(first, rest):\n",
    "    assert is_link(rest)\n",
    "    return [first, rest]\n",
    "\n",
    "def first(s):\n",
    "    assert is_link(s)\n",
    "    assert s != empty\n",
    "    return s[0]\n",
    "\n",
    "def rest(s):\n",
    "    assert is_link(s)\n",
    "    assert s != empty\n",
    "    return s[1]\n",
    "\n",
    "def len_link(s):\n",
    "    length = 0\n",
    "    while s != empty:\n",
    "        s, length = rest(s), length+1\n",
    "    return length\n",
    "\n",
    "def getitem_link(s, i):\n",
    "    while i > 0:\n",
    "        s, i =rest(s), i-1\n",
    "    return first(s)\n",
    "\n",
    "def len_link_recursive(s):\n",
    "    if s == empty:\n",
    "        return 0\n",
    "    else:\n",
    "        return 1+len_link_recursive(rest(s))\n",
    "    \n",
    "def getitem_link_recursive(s,i):\n",
    "    if i==0:\n",
    "        return first(s)\n",
    "    else:\n",
    "        return getitem_link_recursive(rest(s), i-1)\n",
    "    \n",
    "def extend_link(s,t):\n",
    "    \"\"\"将 t 插入到链表 s 的每个元素之后\"\"\"\n",
    "    assert is_link(s) and is_link(t)\n",
    "    if s==empty:\n",
    "        return t\n",
    "    else:\n",
    "        return link(first(s), extend_link(rest(s),t))\n",
    "    \n",
    "def apply_to_all_link(f,s):\n",
    "    assert is_link(s)\n",
    "    if s==empty:\n",
    "        return s\n",
    "    else:\n",
    "        return link(f(first(s)), apply_to_all_link(f,rest(s)))\n",
    "\n",
    "def keep_if_link(f,s):\n",
    "    assert is_link(s)\n",
    "    if s==empty:\n",
    "        return s\n",
    "    else:\n",
    "        kept = keep_if_link(f, rest(s))\n",
    "        if f(first(s)):\n",
    "            return link(first(s), kept)\n",
    "        else:\n",
    "            return kept"
   ]
  },
  {
   "cell_type": "code",
   "execution_count": 16,
   "metadata": {},
   "outputs": [
    {
     "data": {
      "text/plain": [
       "[2, [4, 'empty']]"
      ]
     },
     "execution_count": 16,
     "metadata": {},
     "output_type": "execute_result"
    }
   ],
   "source": [
    "keep_if_link(lambda x : x%2==0, four)"
   ]
  },
  {
   "cell_type": "code",
   "execution_count": 17,
   "metadata": {},
   "outputs": [],
   "source": [
    "#链表：linked list\n",
    "empty = \"empty\"\n",
    "def is_link(s):\n",
    "    \"\"\" s is a linked list \"\"\"\n",
    "    return s == empty or (len(s) == 2 and is_link(s[1]))\n",
    "\n",
    "def link(first, rest):\n",
    "    assert is_link(rest)\n",
    "    return [first, rest]\n",
    "\n",
    "def first(s):\n",
    "    assert is_link(s)\n",
    "    assert s != empty\n",
    "    return s[0]\n",
    "\n",
    "def rest(s):\n",
    "    assert is_link(s)\n",
    "    assert s != empty\n",
    "    return s[1]\n",
    "\n",
    "def len_link(s):\n",
    "    length = 0\n",
    "    while s != empty:\n",
    "        s, length = rest(s), length+1\n",
    "    return length\n",
    "\n",
    "def getitem_link(s, i):\n",
    "    while i > 0:\n",
    "        s, i =rest(s), i-1\n",
    "    return first(s)\n",
    "\n",
    "def len_link_recursive(s):\n",
    "    if s == empty:\n",
    "        return 0\n",
    "    else:\n",
    "        return 1+len_link_recursive(rest(s))\n",
    "    \n",
    "def getitem_link_recursive(s,i):\n",
    "    if i==0:\n",
    "        return first(s)\n",
    "    else:\n",
    "        return getitem_link_recursive(rest(s), i-1)\n",
    "    \n",
    "def extend_link(s,t):\n",
    "    \"\"\"将 t 插入到链表 s 的每个元素之后\"\"\"\n",
    "    assert is_link(s) and is_link(t)\n",
    "    if s==empty:\n",
    "        return t\n",
    "    else:\n",
    "        return link(first(s), extend_link(rest(s),t))\n",
    "    \n",
    "def apply_to_all_link(f,s):\n",
    "    assert is_link(s)\n",
    "    if s==empty:\n",
    "        return s\n",
    "    else:\n",
    "        return link(f(first(s)), apply_to_all_link(f,rest(s)))\n",
    "\n",
    "def keep_if_link(f,s):\n",
    "    \"\"\" 返回 s 中 f(e) 为 True 的元素 \"\"\"\n",
    "    assert is_link(s)\n",
    "    if s==empty:\n",
    "        return s\n",
    "    else:\n",
    "        kept = keep_if_link(f, rest(s))\n",
    "        if f(first(s)):\n",
    "            return link(first(s), kept)\n",
    "        else:\n",
    "            return kept\n",
    "\n",
    "def join_link(s, separator):\n",
    "    \"\"\" 返回分隔符分隔的s中所有元素组成的字符串 \"\"\"\n",
    "    if s== empty:\n",
    "        return \"\"\n",
    "    elif rest(s)==empty:\n",
    "        return str(first(s))\n",
    "    else:\n",
    "        return str(first(s)) + separator + join_link(rest(s), separator)"
   ]
  },
  {
   "cell_type": "code",
   "execution_count": 18,
   "metadata": {},
   "outputs": [
    {
     "data": {
      "text/plain": [
       "'2,3,4'"
      ]
     },
     "execution_count": 18,
     "metadata": {},
     "output_type": "execute_result"
    }
   ],
   "source": [
    "join_link(four, ',')"
   ]
  },
  {
   "cell_type": "code",
   "execution_count": 19,
   "metadata": {},
   "outputs": [],
   "source": [
    "four = link(2, link(3, link(4, empty)))"
   ]
  },
  {
   "cell_type": "code",
   "execution_count": 20,
   "metadata": {},
   "outputs": [
    {
     "data": {
      "text/plain": [
       "'2,3,4'"
      ]
     },
     "execution_count": 20,
     "metadata": {},
     "output_type": "execute_result"
    }
   ],
   "source": [
    "join_link(four, ',')"
   ]
  },
  {
   "cell_type": "code",
   "execution_count": 21,
   "metadata": {},
   "outputs": [],
   "source": [
    "#链表：linked list\n",
    "empty = \"empty\"\n",
    "def is_link(s):\n",
    "    \"\"\" s is a linked list \"\"\"\n",
    "    return s == empty or (len(s) == 2 and is_link(s[1]))\n",
    "\n",
    "def link(first, rest):\n",
    "    assert is_link(rest)\n",
    "    return [first, rest]\n",
    "\n",
    "def first(s):\n",
    "    assert is_link(s)\n",
    "    assert s != empty\n",
    "    return s[0]\n",
    "\n",
    "def rest(s):\n",
    "    assert is_link(s)\n",
    "    assert s != empty\n",
    "    return s[1]\n",
    "\n",
    "def len_link(s):\n",
    "    length = 0\n",
    "    while s != empty:\n",
    "        s, length = rest(s), length+1\n",
    "    return length\n",
    "\n",
    "def getitem_link(s, i):\n",
    "    while i > 0:\n",
    "        s, i =rest(s), i-1\n",
    "    return first(s)\n",
    "\n",
    "def len_link_recursive(s):\n",
    "    if s == empty:\n",
    "        return 0\n",
    "    else:\n",
    "        return 1+len_link_recursive(rest(s))\n",
    "    \n",
    "def getitem_link_recursive(s,i):\n",
    "    if i==0:\n",
    "        return first(s)\n",
    "    else:\n",
    "        return getitem_link_recursive(rest(s), i-1)\n",
    "    \n",
    "def extend_link(s,t):\n",
    "    \"\"\"将 t 插入到链表 s 的每个元素之后\"\"\"\n",
    "    assert is_link(s) and is_link(t)\n",
    "    if s==empty:\n",
    "        return t\n",
    "    else:\n",
    "        return link(first(s), extend_link(rest(s),t))\n",
    "    \n",
    "def apply_to_all_link(f,s):\n",
    "    assert is_link(s)\n",
    "    if s==empty:\n",
    "        return s\n",
    "    else:\n",
    "        return link(f(first(s)), apply_to_all_link(f,rest(s)))\n",
    "\n",
    "def keep_if_link(f,s):\n",
    "    \"\"\" 返回 s 中 f(e) 为 True 的元素 \"\"\"\n",
    "    assert is_link(s)\n",
    "    if s==empty:\n",
    "        return s\n",
    "    else:\n",
    "        kept = keep_if_link(f, rest(s))\n",
    "        if f(first(s)):\n",
    "            return link(first(s), kept)\n",
    "        else:\n",
    "            return kept\n",
    "\n",
    "def join_link(s, separator):\n",
    "    \"\"\" 返回分隔符分隔的s中所有元素组成的字符串 \"\"\"\n",
    "    if s== empty:\n",
    "        return \"\"\n",
    "    elif rest(s)==empty:\n",
    "        return str(first(s))\n",
    "    else:\n",
    "        return str(first(s)) + separator + join_link(rest(s), separator)\n",
    "    \n",
    "def partitions(n, m):\n",
    "    \"\"\" 返回一个由n个分区组成的链表,每个分区的部分数最多为m。每个分区表示一个链表 \"\"\"\n",
    "    if n==0:\n",
    "        return link(empty, empty)\n",
    "    elif n<0 or m==0:\n",
    "        return empty\n",
    "    else:\n",
    "        using_m = partitions(n-m, m)\n",
    "        with_m = apply_to_all_link(lambda s: link(m, s), using_m)\n",
    "        without_m = partitions(n, m-1)\n",
    "        return extend_link(with_m ,without_m)\n",
    "    \n",
    "def print_partitions(n,m):\n",
    "    lists = partitions(n,m)\n",
    "    strings = apply_to_all_link(lambda s: join_link(s, '+'), lists)\n",
    "    print(join_link(strings, '\\n'))"
   ]
  },
  {
   "cell_type": "code",
   "execution_count": 28,
   "metadata": {},
   "outputs": [
    {
     "data": {
      "text/plain": [
       "[[4, [2, 'empty']],\n",
       " [[4, [1, [1, 'empty']]],\n",
       "  [[3, [3, 'empty']],\n",
       "   [[3, [2, [1, 'empty']]],\n",
       "    [[3, [1, [1, [1, 'empty']]]],\n",
       "     [[2, [2, [2, 'empty']]],\n",
       "      [[2, [2, [1, [1, 'empty']]]],\n",
       "       [[2, [1, [1, [1, [1, 'empty']]]]],\n",
       "        [[1, [1, [1, [1, [1, [1, 'empty']]]]]], 'empty']]]]]]]]]"
      ]
     },
     "execution_count": 28,
     "metadata": {},
     "output_type": "execute_result"
    }
   ],
   "source": [
    "partitions(6,4)"
   ]
  },
  {
   "cell_type": "code",
   "execution_count": 29,
   "metadata": {},
   "outputs": [
    {
     "name": "stdout",
     "output_type": "stream",
     "text": [
      "4+2\n",
      "4+1+1\n",
      "3+3\n",
      "3+2+1\n",
      "3+1+1+1\n",
      "2+2+2\n",
      "2+2+1+1\n",
      "2+1+1+1+1\n",
      "1+1+1+1+1+1\n"
     ]
    }
   ],
   "source": [
    "print_partitions(6,4)"
   ]
  }
 ],
 "metadata": {
  "kernelspec": {
   "display_name": "Python 3",
   "language": "python",
   "name": "python3"
  },
  "language_info": {
   "codemirror_mode": {
    "name": "ipython",
    "version": 3
   },
   "file_extension": ".py",
   "mimetype": "text/x-python",
   "name": "python",
   "nbconvert_exporter": "python",
   "pygments_lexer": "ipython3",
   "version": "3.11.4"
  },
  "orig_nbformat": 4
 },
 "nbformat": 4,
 "nbformat_minor": 2
}
